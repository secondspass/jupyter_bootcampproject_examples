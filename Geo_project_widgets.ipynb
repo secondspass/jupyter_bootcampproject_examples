{
 "cells": [
  {
   "cell_type": "markdown",
   "id": "0b4a2f50",
   "metadata": {},
   "source": [
    "# Static Simple Plot w/ GeoPandas"
   ]
  },
  {
   "cell_type": "code",
   "execution_count": null,
   "id": "dde72c3e",
   "metadata": {},
   "outputs": [],
   "source": [
    "import pandas as pd\n",
    "import geopandas as gpd\n",
    "from geopandas import GeoDataFrame\n",
    "import matplotlib.pyplot as plt\n",
    "\n",
    "\n",
    "df = pd.read_csv(\"data/CtyAvTemp62016.csv\", delimiter=',', skiprows=0, low_memory=False)\n",
    "gdf = GeoDataFrame(df)\n",
    "\n",
    "world = gpd.read_file(gpd.datasets.get_path('naturalearth_lowres'))\n",
    "gdf.plot(ax=world.plot(figsize=(10, 6)), kind='scatter', x=\"Lon\", y=\"Lat\", c='TempK')#,xlim=(-180,-20), ylim=(-60,90))\n",
    "plt.show()"
   ]
  },
  {
   "cell_type": "markdown",
   "id": "867093fc",
   "metadata": {},
   "source": [
    "# GeoPandas Plot w/ Widgets"
   ]
  },
  {
   "cell_type": "code",
   "execution_count": null,
   "id": "f383c03a",
   "metadata": {},
   "outputs": [],
   "source": [
    "import pandas as pd\n",
    "import geopandas as gpd\n",
    "from geopandas import GeoDataFrame\n",
    "import matplotlib.pyplot as plt\n",
    "import ipywidgets as widgets\n",
    "from functools import partial\n",
    "\n",
    "df = pd.read_csv(\"data/CtyAvTemp62016.csv\", delimiter=',', skiprows=0, low_memory=False)\n",
    "gdf = GeoDataFrame(df)\n",
    "world = gpd.read_file(gpd.datasets.get_path('naturalearth_lowres'))\n",
    "\n",
    "print(gdf.columns.values)\n",
    "\n",
    "minvals = gdf.min()\n",
    "maxvals = gdf.max()\n",
    "curr_var = 'TempK'\n",
    "\n",
    "var_dropdown = widgets.Dropdown(options=['Lat','Lon','TempK'],value='TempK',description='Variable:',disabled=False)\n",
    "\n",
    "loadbar=widgets.IntProgress(value=0,min=0,max=10,step=1,description='Loading:', bar_style='', orientation='horizontal')\n",
    "\n",
    "c_min=widgets.FloatText(value=minvals['TempK'], placeholder='Type something', description='Color min', disabled=False, continuous_update=False)\n",
    "c_max=widgets.FloatText(value=maxvals['TempK'], placeholder='Type something', description='Color max',disabled=False, continuous_update=False)\n",
    "#widgets.FloatRangeSlider(value=[5, 7.5],min=0,max=10.0,step=0.1,description='Test:',disabled=False,continuous_update=False,orientation='horizontal',readout=True,readout_format='.1f')\n",
    "\n",
    "button = widgets.Button(description=\"Save fig\")\n",
    "\n",
    "left_box = widgets.VBox([var_dropdown,c_min])\n",
    "right_box = widgets.VBox([loadbar,c_max])\n",
    "ui=widgets.HBox([left_box, right_box, button])\n",
    "display(ui)\n",
    "\n",
    "def on_button_clicked(self, plot_data):\n",
    "    fig=plot_data.get_figure()\n",
    "    fig.savefig('testingthingsnew.png')\n",
    "    return\n",
    "\n",
    "def update(variable,var_min,var_max):\n",
    "    global curr_var\n",
    "        \n",
    "    if (curr_var != variable):\n",
    "        defaults = True\n",
    "        #c_min.value = minvals[variable]\n",
    "        #c_max.value = maxvals[variable]\n",
    "    else:\n",
    "        defaults = False\n",
    "                \n",
    "    minval_new = minvals[variable]\n",
    "    maxval_new = maxvals[variable]\n",
    "    print(f'{variable} min: {minval_new}')\n",
    "    print(f'{variable} max: {maxval_new}')\n",
    "        \n",
    "    if defaults:\n",
    "            plot_var=gdf.plot(ax=world.plot(figsize=(10, 6)), kind='scatter', x=\"Lon\", y=\"Lat\", c=variable)\n",
    "    else:\n",
    "            plot_var=gdf.plot(ax=world.plot(figsize=(10, 6)), kind='scatter', x=\"Lon\", y=\"Lat\", c=variable, vmin=var_min,vmax=var_max)\n",
    "        \n",
    "    button.on_click(partial(on_button_clicked, plot_data=plot_var))\n",
    "    curr_var = variable\n",
    "    \n",
    "\n",
    "out=widgets.interactive_output(update, {'variable': var_dropdown, 'var_min':c_min, 'var_max':c_max})\n",
    "display(out)"
   ]
  },
  {
   "cell_type": "markdown",
   "id": "79eea431",
   "metadata": {},
   "source": [
    "# GeoPandas + Widgets Simplified"
   ]
  },
  {
   "cell_type": "code",
   "execution_count": null,
   "id": "fc9befaf",
   "metadata": {},
   "outputs": [],
   "source": [
    "import pandas as pd\n",
    "import geopandas as gpd\n",
    "from geopandas import GeoDataFrame\n",
    "import matplotlib.pyplot as plt\n",
    "import ipywidgets as widgets\n",
    "from functools import partial\n",
    "\n",
    "df = pd.read_csv(\"data/CtyAvTemp62016.csv\", delimiter=',', skiprows=0, low_memory=False)\n",
    "gdf = GeoDataFrame(df)\n",
    "world = gpd.read_file(gpd.datasets.get_path('naturalearth_lowres'))\n",
    "\n",
    "print(gdf.columns.values)\n",
    "\n",
    "minvals = gdf.min()\n",
    "maxvals = gdf.max()\n",
    "curr_var = 'TempK'\n",
    "\n",
    "var_dropdown = widgets.Dropdown(options=['Lat','Lon','TempK'],value='TempK',description='Variable:',disabled=False)\n",
    "\n",
    "display(var_dropdown)\n",
    "\n",
    "def update(variable):\n",
    "    \n",
    "    minval_new = minvals[variable]\n",
    "    maxval_new = maxvals[variable]\n",
    "    print(f'{variable} min: {minval_new}')\n",
    "    print(f'{variable} max: {maxval_new}')\n",
    "    \n",
    "    gdf.plot(ax=world.plot(figsize=(10, 6)), kind='scatter', x=\"Lon\", y=\"Lat\", c=variable)\n",
    "\n",
    "out=widgets.interactive_output(update, {'variable': var_dropdown})\n",
    "display(out)"
   ]
  },
  {
   "cell_type": "code",
   "execution_count": null,
   "id": "46866d20",
   "metadata": {},
   "outputs": [],
   "source": []
  }
 ],
 "metadata": {
  "kernelspec": {
   "display_name": "Python 3 (ipykernel)",
   "language": "python",
   "name": "python3"
  },
  "language_info": {
   "codemirror_mode": {
    "name": "ipython",
    "version": 3
   },
   "file_extension": ".py",
   "mimetype": "text/x-python",
   "name": "python",
   "nbconvert_exporter": "python",
   "pygments_lexer": "ipython3",
   "version": "3.11.3"
  }
 },
 "nbformat": 4,
 "nbformat_minor": 5
}
